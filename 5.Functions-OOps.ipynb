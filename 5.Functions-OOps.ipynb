{
 "cells": [
  {
   "cell_type": "code",
   "execution_count": 1,
   "id": "10a3f515-9c67-462b-9a43-89a4a9ae9ecc",
   "metadata": {},
   "outputs": [],
   "source": [
    "def AgeCategory():\n",
    "        if (age <=18):\n",
    "            print(\"Children\")\n",
    "            cate=\"Children\"\n",
    "        elif (age <=35):\n",
    "            print(\"Adult\")\n",
    "            cate=\"Adult\"\n",
    "        elif (age <=59):\n",
    "            print(\"Citizen\")\n",
    "            cate=\"citizen\"\n",
    "        else:\n",
    "            print(\"Senior Citizen\")   \n",
    "            cate=\"Senior Citizen\"\n",
    "        return cate"
   ]
  },
  {
   "cell_type": "code",
   "execution_count": 2,
   "id": "1a0ac16b-71d6-41c8-a323-d958f1bbe53d",
   "metadata": {},
   "outputs": [
    {
     "name": "stdin",
     "output_type": "stream",
     "text": [
      "Enter the Age: 25\n"
     ]
    },
    {
     "name": "stdout",
     "output_type": "stream",
     "text": [
      "Adult\n"
     ]
    }
   ],
   "source": [
    "age = int(input(\"Enter the Age:\"))\n",
    "agecate=AgeCategory()"
   ]
  },
  {
   "cell_type": "code",
   "execution_count": 3,
   "id": "df3e0752-63cd-4b70-b250-a11f9136f4fa",
   "metadata": {},
   "outputs": [
    {
     "name": "stdout",
     "output_type": "stream",
     "text": [
      "Adult\n"
     ]
    }
   ],
   "source": [
    "print(agecate)"
   ]
  },
  {
   "cell_type": "code",
   "execution_count": 4,
   "id": "fe90d015-5f7f-4d0e-ad90-d402bf1cf154",
   "metadata": {},
   "outputs": [],
   "source": [
    "def AgeCategoryNoReturn():\n",
    "        if (age <=18):\n",
    "            print(\"Children\")\n",
    "            cate=\"Children\"\n",
    "        elif (age <=35):\n",
    "            print(\"Adult\")\n",
    "            cate=\"Adult\"\n",
    "        elif (age <=59):\n",
    "            print(\"Citizen\")\n",
    "            cate=\"citizen\"\n",
    "        else:\n",
    "            print(\"Senior Citizen\")   \n",
    "            cate=\"Senior Citizen\""
   ]
  },
  {
   "cell_type": "code",
   "execution_count": 5,
   "id": "83796a82-b14e-4b3f-be85-89c36fc4fddf",
   "metadata": {},
   "outputs": [
    {
     "name": "stdin",
     "output_type": "stream",
     "text": [
      "Enter the Age: 35\n"
     ]
    },
    {
     "name": "stdout",
     "output_type": "stream",
     "text": [
      "Adult\n"
     ]
    }
   ],
   "source": [
    "age = int(input(\"Enter the Age:\"))\n",
    "agecate=AgeCategoryNoReturn()"
   ]
  },
  {
   "cell_type": "code",
   "execution_count": 6,
   "id": "b2c11013-8c9a-4232-b6fb-2c3ef22040d7",
   "metadata": {},
   "outputs": [
    {
     "name": "stdout",
     "output_type": "stream",
     "text": [
      "None\n"
     ]
    }
   ],
   "source": [
    "print(agecate)"
   ]
  },
  {
   "cell_type": "code",
   "execution_count": 9,
   "id": "3dbcf600-d9c3-421d-b4f9-ee42144d835b",
   "metadata": {},
   "outputs": [],
   "source": [
    "def oddEven():\n",
    "    num=int(input(\"Enter number:\"))\n",
    "    if((num%2)==0):\n",
    "        print(num,\" is Even number\")\n",
    "        message=\"Even Number\"\n",
    "    else:\n",
    "        print(num,\" is Odd number\")    \n",
    "        message=\"Odd Number\"\n",
    "    return message"
   ]
  },
  {
   "cell_type": "code",
   "execution_count": 13,
   "id": "3c2de7be-608d-40f0-8be2-d746267e7a91",
   "metadata": {},
   "outputs": [
    {
     "name": "stdin",
     "output_type": "stream",
     "text": [
      "Enter number: 5\n"
     ]
    },
    {
     "name": "stdout",
     "output_type": "stream",
     "text": [
      "5  is Odd number\n"
     ]
    }
   ],
   "source": [
    "message=oddEven()"
   ]
  },
  {
   "cell_type": "code",
   "execution_count": 14,
   "id": "582fa34a-bc37-4cf6-a013-04d68fe0d201",
   "metadata": {},
   "outputs": [
    {
     "name": "stdout",
     "output_type": "stream",
     "text": [
      "The given number is Odd\n"
     ]
    }
   ],
   "source": [
    "if (message == \"Even Number\"):\n",
    "    print(\"The given number is Even\")\n",
    "else:\n",
    "    print(\"The given number is Odd\")"
   ]
  },
  {
   "cell_type": "code",
   "execution_count": 15,
   "id": "95e740ab-f3fb-4792-80ec-492b15d97dfa",
   "metadata": {},
   "outputs": [],
   "source": [
    "\n",
    "def BMI():\n",
    "    BMI = float(input(\"Enter BMI: \"))\n",
    "    if (BMI < 18.5):\n",
    "        print(\"BMI: \",BMI,\" is Under Weight\")\n",
    "        message=\"Under Weight\"\n",
    "    elif (BMI >= 18.5) and (BMI <=24.9):\n",
    "        print(\"BMI: \",BMI,\" is Normal Weight\")\n",
    "        message=\"Normal Weight\"\n",
    "    elif (BMI >= 25.0) and (BMI <=29.9):\n",
    "        print(\"BMI: \",BMI,\" is Over Weight\")\n",
    "        message=\"Over Weight\"\n",
    "    elif (BMI >= 30.0) and (BMI <=34.9):\n",
    "        print(\"BMI: \",BMI,\" is Obese\")\n",
    "        message=\"Obese\"\n",
    "    else:\n",
    "        print(\"BMI: \",BMI,\" is Extremely Obese\")\n",
    "        message=\"Extremely Obese\"\n",
    "    return message"
   ]
  },
  {
   "cell_type": "code",
   "execution_count": 16,
   "id": "c3b22194-15da-4efc-9c35-1444df4e7b40",
   "metadata": {},
   "outputs": [
    {
     "name": "stdin",
     "output_type": "stream",
     "text": [
      "Enter BMI:  35\n"
     ]
    },
    {
     "name": "stdout",
     "output_type": "stream",
     "text": [
      "BMI:  35.0  is Extremely Obese\n"
     ]
    }
   ],
   "source": [
    "bmi = BMI()"
   ]
  },
  {
   "cell_type": "code",
   "execution_count": 18,
   "id": "efc8c62f-b205-4db0-b850-d51488f07cb2",
   "metadata": {},
   "outputs": [],
   "source": [
    "\n",
    "def addition(num1,num2):\n",
    "    add=num1+num2\n",
    "    return add"
   ]
  },
  {
   "cell_type": "code",
   "execution_count": 19,
   "id": "d49cdb23-8154-408a-bd45-26782e93a9a6",
   "metadata": {},
   "outputs": [
    {
     "data": {
      "text/plain": [
       "9"
      ]
     },
     "execution_count": 19,
     "metadata": {},
     "output_type": "execute_result"
    }
   ],
   "source": [
    "addition(5,4)"
   ]
  },
  {
   "cell_type": "code",
   "execution_count": 21,
   "id": "ddbd47f4-0ef1-494c-92b8-e8c63c2ac60c",
   "metadata": {},
   "outputs": [
    {
     "name": "stdout",
     "output_type": "stream",
     "text": [
      "19\n"
     ]
    }
   ],
   "source": [
    "print(addition(10,9))"
   ]
  },
  {
   "cell_type": "code",
   "execution_count": null,
   "id": "7a898965-9cdd-47c8-83dc-08b6416c2496",
   "metadata": {},
   "outputs": [],
   "source": []
  }
 ],
 "metadata": {
  "kernelspec": {
   "display_name": "Python 3 (ipykernel)",
   "language": "python",
   "name": "python3"
  },
  "language_info": {
   "codemirror_mode": {
    "name": "ipython",
    "version": 3
   },
   "file_extension": ".py",
   "mimetype": "text/x-python",
   "name": "python",
   "nbconvert_exporter": "python",
   "pygments_lexer": "ipython3",
   "version": "3.12.7"
  }
 },
 "nbformat": 4,
 "nbformat_minor": 5
}
