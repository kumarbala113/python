{
 "cells": [
  {
   "cell_type": "code",
   "execution_count": 1,
   "id": "59faaf1b-1fb3-4f21-8f04-89517a081562",
   "metadata": {},
   "outputs": [
    {
     "name": "stdout",
     "output_type": "stream",
     "text": [
      "40\n"
     ]
    }
   ],
   "source": [
    "num1=10\n",
    "num2=30\n",
    "add=num1+num2\n",
    "print(add)"
   ]
  },
  {
   "cell_type": "code",
   "execution_count": 6,
   "id": "d66baf21-a656-4ae0-9c33-66aa4383345d",
   "metadata": {},
   "outputs": [
    {
     "name": "stdout",
     "output_type": "stream",
     "text": [
      "The addition of two numbers\n",
      "The number1: 10\n",
      "The number2: 20\n",
      "The Answer: 30\n"
     ]
    }
   ],
   "source": [
    "print(\"The addition of two numbers\")\n",
    "num1=10\n",
    "print(\"The number1:\",num1)\n",
    "num2=20\n",
    "print(\"The number2:\",num2)\n",
    "add=num1+num2\n",
    "print(\"The Answer:\",add)"
   ]
  },
  {
   "cell_type": "code",
   "execution_count": 9,
   "id": "4872bcce-961b-4b40-858c-d588a90fd0a9",
   "metadata": {},
   "outputs": [
    {
     "name": "stdin",
     "output_type": "stream",
     "text": [
      "Enter the number 1: 30\n",
      "Enter the number 2: 50\n"
     ]
    },
    {
     "name": "stdout",
     "output_type": "stream",
     "text": [
      "80\n"
     ]
    }
   ],
   "source": [
    "num1=int(input(\"Enter the number 1:\"))\n",
    "num2=int(input(\"Enter the number 2:\"))\n",
    "add=num1+num2\n",
    "print(add)"
   ]
  },
  {
   "cell_type": "code",
   "execution_count": 10,
   "id": "ac159189-6883-4aff-bf2b-a4dbc9787019",
   "metadata": {},
   "outputs": [
    {
     "name": "stdout",
     "output_type": "stream",
     "text": [
      "hello\n"
     ]
    }
   ],
   "source": [
    "word='hello'\n",
    "print(word)"
   ]
  },
  {
   "cell_type": "code",
   "execution_count": null,
   "id": "6a5fcf3a-5e26-4945-b6d1-4fed0499fea0",
   "metadata": {},
   "outputs": [],
   "source": []
  }
 ],
 "metadata": {
  "kernelspec": {
   "display_name": "Python 3 (ipykernel)",
   "language": "python",
   "name": "python3"
  },
  "language_info": {
   "codemirror_mode": {
    "name": "ipython",
    "version": 3
   },
   "file_extension": ".py",
   "mimetype": "text/x-python",
   "name": "python",
   "nbconvert_exporter": "python",
   "pygments_lexer": "ipython3",
   "version": "3.12.7"
  }
 },
 "nbformat": 4,
 "nbformat_minor": 5
}
