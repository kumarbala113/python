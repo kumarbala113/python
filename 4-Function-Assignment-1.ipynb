{
 "cells": [
  {
   "cell_type": "code",
   "execution_count": 2,
   "id": "f44b665b-06e7-4d14-9b90-0e47b020dc95",
   "metadata": {},
   "outputs": [
    {
     "name": "stdout",
     "output_type": "stream",
     "text": [
      "Sub-fields in AI area:\n",
      "machine learning\n",
      "neural network\n",
      "robotics\n",
      "vision\n",
      "speech processing\n",
      "natural language processing\n"
     ]
    }
   ],
   "source": [
    "list=['machine learning','neural network','robotics','vision','speech processing','natural language processing']\n",
    "\n",
    "def Subfields():\n",
    "    print(\"Sub-fields in AI area:\")\n",
    "    for temp in list:\n",
    "        print(temp)\n",
    "\n",
    "Subfields()"
   ]
  },
  {
   "cell_type": "code",
   "execution_count": 3,
   "id": "770b509c-a439-4a6f-bab4-b8f8ae75331e",
   "metadata": {},
   "outputs": [
    {
     "name": "stdin",
     "output_type": "stream",
     "text": [
      "Enter a number: 52452\n"
     ]
    },
    {
     "name": "stdout",
     "output_type": "stream",
     "text": [
      "52452  is Even number\n"
     ]
    }
   ],
   "source": [
    "\n",
    "def oddEven():\n",
    "    num=int(input(\"Enter a number:\"))\n",
    "    if((num%2)==0):\n",
    "        print(num,\" is Even number\")\n",
    "#        message=\"Even Number\"\n",
    "    else:\n",
    "        print(num,\" is Odd number\")    \n",
    "#        message=\"Odd Number\"\n",
    "#    return message\n",
    "\n",
    "oddEven()\n"
   ]
  },
  {
   "cell_type": "code",
   "execution_count": 9,
   "id": "42515819-e321-4ca1-817e-fdf564607230",
   "metadata": {},
   "outputs": [
    {
     "name": "stdin",
     "output_type": "stream",
     "text": [
      "Enter your Gender M/F: F\n",
      "Enter your Age: 20\n"
     ]
    },
    {
     "name": "stdout",
     "output_type": "stream",
     "text": [
      "Your Gender:Female\n",
      "Your Age: 20\n",
      "Eligible\n"
     ]
    }
   ],
   "source": [
    "\n",
    "def ElegibilityForMarriage():\n",
    "    gender = input(\"Enter your Gender M/F:\")\n",
    "    age = int(input(\"Enter your Age:\"))\n",
    "    if (gender == \"M\"):\n",
    "        print(\"Your Gender:Male\")\n",
    "    elif (gender == \"F\"):\n",
    "        print(\"Your Gender:Female\")\n",
    "\n",
    "    print(\"Your Age:\",age)\n",
    "    if (gender == \"M\") and (age >= 21) or (gender == \"F\") and (age >= 18):\n",
    "        print(\"Eligible\")\n",
    "    else:\n",
    "        print(\"Not Eligible\")\n",
    "\n",
    "\n",
    "\n",
    "ElegibilityForMarriage()"
   ]
  },
  {
   "cell_type": "code",
   "execution_count": 18,
   "id": "663c0de6-7f5c-4955-a357-3dd9e9fe0667",
   "metadata": {},
   "outputs": [
    {
     "name": "stdout",
     "output_type": "stream",
     "text": [
      "Total :  468\n",
      "Percentage :  93.6\n"
     ]
    }
   ],
   "source": [
    "\n",
    "def percentage():\n",
    "    subj1 = 98\n",
    "    subj2 = 87\n",
    "    subj3 = 95\n",
    "    subj4 = 95\n",
    "    subj5 = 93\n",
    "    total = subj1+subj2+subj3+subj4+subj5\n",
    "    percent = ((total/5) / 100) * 100\n",
    "    print(\"Total : \",total)\n",
    "    print(\"Percentage : \", percent)\n",
    "\n",
    "percentage()"
   ]
  },
  {
   "cell_type": "code",
   "execution_count": 20,
   "id": "80e0f3a0-ecfb-4a92-b6cb-71747801849d",
   "metadata": {},
   "outputs": [
    {
     "name": "stdout",
     "output_type": "stream",
     "text": [
      "Height: 32\n",
      "Breadth: 34\n",
      "Area formula: (Height*Breadth)/2\n",
      "Area of Triangle: 544.0\n",
      "Height1: 2\n",
      "Height2: 4\n",
      "Breadth: 4\n",
      "Perimeter formula: Height1+Height2+Breadth\n",
      "Perimeter of Triangle: 10\n"
     ]
    }
   ],
   "source": [
    "\n",
    "def triangle():\n",
    "    height = 32\n",
    "    breadth = 34\n",
    "    areaformula = (height*breadth)/2\n",
    "    print(\"Height:\",height)\n",
    "    print(\"Breadth:\",breadth)\n",
    "    print(\"Area formula: (Height*Breadth)/2\")\n",
    "    print(\"Area of Triangle:\",areaformula)\n",
    "\n",
    "    height1 = 2\n",
    "    height2 = 4\n",
    "    breadth = 4\n",
    "    perimeterformula = (height1+height2+breadth)\n",
    "    print(\"Height1:\",height1)\n",
    "    print(\"Height2:\",height2)\n",
    "    print(\"Breadth:\",breadth)\n",
    "    print(\"Perimeter formula: Height1+Height2+Breadth\")\n",
    "    print(\"Perimeter of Triangle:\",perimeterformula)\n",
    "\n",
    "triangle()\n",
    "\n"
   ]
  },
  {
   "cell_type": "code",
   "execution_count": null,
   "id": "2146ed8a-a34e-45cb-8ce2-5f73d4353972",
   "metadata": {},
   "outputs": [],
   "source": []
  }
 ],
 "metadata": {
  "kernelspec": {
   "display_name": "Python 3 (ipykernel)",
   "language": "python",
   "name": "python3"
  },
  "language_info": {
   "codemirror_mode": {
    "name": "ipython",
    "version": 3
   },
   "file_extension": ".py",
   "mimetype": "text/x-python",
   "name": "python",
   "nbconvert_exporter": "python",
   "pygments_lexer": "ipython3",
   "version": "3.12.7"
  }
 },
 "nbformat": 4,
 "nbformat_minor": 5
}
